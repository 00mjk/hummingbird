{
 "cells": [
  {
   "cell_type": "code",
   "execution_count": 1,
   "metadata": {},
   "outputs": [],
   "source": [
    "from sklearn.ensemble import RandomForestClassifier\n",
    "from sklearn.model_selection import train_test_split\n",
    "import numpy as np\n",
    "import hummingbird"
   ]
  },
  {
   "cell_type": "markdown",
   "metadata": {},
   "source": [
    "#### Parameters for model"
   ]
  },
  {
   "cell_type": "code",
   "execution_count": 2,
   "metadata": {},
   "outputs": [
    {
     "output_type": "stream",
     "name": "stdout",
     "text": "For #classes:2, depth:7, n_estimators/trees:500\n"
    }
   ],
   "source": [
    "max_depth=7\n",
    "num_classes=2\n",
    "n_estimators=500\n",
    "n_features=200\n",
    "data_sz=200000\n",
    "print(\"For #classes:{}, depth:{}, n_estimators/trees:{}\".format(num_classes, max_depth, n_estimators))"
   ]
  },
  {
   "cell_type": "markdown",
   "metadata": {},
   "source": [
    "#### Create and fit the model"
   ]
  },
  {
   "cell_type": "code",
   "execution_count": 3,
   "metadata": {},
   "outputs": [],
   "source": [
    "skl_model = RandomForestClassifier(n_estimators=n_estimators, max_depth=max_depth)\n",
    "X = np.random.rand(data_sz, n_features).astype('float32')\n",
    "y = np.random.randint(num_classes, size=data_sz)\n",
    "\n",
    "# Larger than normal test_size for benchmarking\n",
    "X_train, X_test, y_train, _ = train_test_split(X, y, test_size=0.80)"
   ]
  },
  {
   "cell_type": "code",
   "execution_count": 4,
   "metadata": {},
   "outputs": [
    {
     "output_type": "execute_result",
     "data": {
      "text/plain": "RandomForestClassifier(bootstrap=True, class_weight=None, criterion='gini',\n                       max_depth=7, max_features='auto', max_leaf_nodes=None,\n                       min_impurity_decrease=0.0, min_impurity_split=None,\n                       min_samples_leaf=1, min_samples_split=2,\n                       min_weight_fraction_leaf=0.0, n_estimators=500,\n                       n_jobs=None, oob_score=False, random_state=None,\n                       verbose=0, warm_start=False)"
     },
     "metadata": {},
     "execution_count": 4
    }
   ],
   "source": [
    "skl_model.fit(X_train, y_train) # This will take a bit\n"
   ]
  },
  {
   "cell_type": "markdown",
   "metadata": {},
   "source": [
    "#### Time scikit-learn"
   ]
  },
  {
   "cell_type": "code",
   "execution_count": 5,
   "metadata": {},
   "outputs": [
    {
     "output_type": "stream",
     "name": "stdout",
     "text": "8.2 s ± 22 ms per loop (mean ± std. dev. of 7 runs, 1 loop each)\n"
    }
   ],
   "source": [
    "%%timeit \n",
    "skl_model.predict(X_test)"
   ]
  },
  {
   "cell_type": "markdown",
   "metadata": {},
   "source": [
    "#### Convert SKL model to PyTorch"
   ]
  },
  {
   "cell_type": "code",
   "execution_count": 6,
   "metadata": {},
   "outputs": [],
   "source": [
    "pytorch_model = skl_model.to('pytorch')"
   ]
  },
  {
   "cell_type": "markdown",
   "metadata": {},
   "source": [
    "#### Time PyTorch - CPU"
   ]
  },
  {
   "cell_type": "code",
   "execution_count": 7,
   "metadata": {},
   "outputs": [
    {
     "output_type": "stream",
     "name": "stdout",
     "text": "3.98 s ± 28.9 ms per loop (mean ± std. dev. of 7 runs, 1 loop each)\n"
    }
   ],
   "source": [
    "%%timeit \n",
    "pytorch_model.predict(X_test)"
   ]
  },
  {
   "cell_type": "markdown",
   "metadata": {},
   "source": [
    "#### Switch PyTorch from CPU to GPU"
   ]
  },
  {
   "cell_type": "code",
   "execution_count": 8,
   "metadata": {},
   "outputs": [
    {
     "output_type": "execute_result",
     "data": {
      "text/plain": "PyTorchBackendModel(\n  (operator_map): ModuleDict(\n    (SklearnRandomForestClassifier): PerfectTreeTraversalDecisionTreeImpl(\n      (nodes): ParameterList(\n          (0): Parameter containing: [torch.cuda.LongTensor of size 1000 (GPU 0)]\n          (1): Parameter containing: [torch.cuda.LongTensor of size 2000 (GPU 0)]\n          (2): Parameter containing: [torch.cuda.LongTensor of size 4000 (GPU 0)]\n          (3): Parameter containing: [torch.cuda.LongTensor of size 8000 (GPU 0)]\n          (4): Parameter containing: [torch.cuda.LongTensor of size 16000 (GPU 0)]\n          (5): Parameter containing: [torch.cuda.LongTensor of size 32000 (GPU 0)]\n      )\n      (biases): ParameterList(\n          (0): Parameter containing: [torch.cuda.FloatTensor of size 1000 (GPU 0)]\n          (1): Parameter containing: [torch.cuda.FloatTensor of size 2000 (GPU 0)]\n          (2): Parameter containing: [torch.cuda.FloatTensor of size 4000 (GPU 0)]\n          (3): Parameter containing: [torch.cuda.FloatTensor of size 8000 (GPU 0)]\n          (4): Parameter containing: [torch.cuda.FloatTensor of size 16000 (GPU 0)]\n          (5): Parameter containing: [torch.cuda.FloatTensor of size 32000 (GPU 0)]\n      )\n    )\n  )\n)"
     },
     "metadata": {},
     "execution_count": 8
    }
   ],
   "source": [
    "pytorch_model.to('cuda')"
   ]
  },
  {
   "cell_type": "markdown",
   "metadata": {},
   "source": [
    "#### Time PyTorch - GPU"
   ]
  },
  {
   "cell_type": "code",
   "execution_count": 9,
   "metadata": {},
   "outputs": [
    {
     "output_type": "stream",
     "name": "stdout",
     "text": "143 ms ± 181 µs per loop (mean ± std. dev. of 7 runs, 10 loops each)\n"
    }
   ],
   "source": [
    "%%timeit \n",
    "pytorch_model.predict(X_test)"
   ]
  },
  {
   "cell_type": "code",
   "execution_count": null,
   "metadata": {},
   "outputs": [],
   "source": []
  }
 ],
 "metadata": {
  "kernelspec": {
   "display_name": "Python 3",
   "language": "python",
   "name": "python3"
  },
  "language_info": {
   "codemirror_mode": {
    "name": "ipython",
    "version": 3
   },
   "file_extension": ".py",
   "mimetype": "text/x-python",
   "name": "python",
   "nbconvert_exporter": "python",
   "pygments_lexer": "ipython3",
   "version": "3.7.6-final"
  }
 },
 "nbformat": 4,
 "nbformat_minor": 2
}