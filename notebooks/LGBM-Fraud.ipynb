{
 "cells": [
  {
   "cell_type": "code",
   "execution_count": 1,
   "metadata": {},
   "outputs": [],
   "source": [
    "import numpy as np\n",
    "import torch, pickle\n",
    "import lightgbm as lgb\n",
    "from hummingbird import convert_sklearn\n",
    "from onnxconverter_common.data_types import FloatTensorType"
   ]
  },
  {
   "cell_type": "code",
   "execution_count": 2,
   "metadata": {},
   "outputs": [],
   "source": [
    "\n",
    "# load the LGBM model for Fraud\n",
    "model = pickle.load(open('lgbm-500-6.pkl', \"rb\"))\n",
    "#model = lgb.LGBMClassifier(n_estimators=10, max_depth=10)\n",
    "X = np.random.rand(100000, 28)\n",
    "X = np.array(X, dtype=np.float32)\n",
    "y = np.random.randint(3, size=100000)\n",
    "\n",
    "model.fit(X, y)\n",
    "\n",
    "pytorch_model = convert_sklearn(\n",
    "    model, \n",
    "    [(\"input\", FloatTensorType([100000, 28]))], \n",
    "    extra_config={\"tree_implementation\": \"perf_tree_trav\"})\n",
    "\n",
    "X_torch = torch.from_numpy(X)\n"
   ]
  },
  {
   "cell_type": "code",
   "execution_count": 3,
   "metadata": {},
   "outputs": [
    {
     "name": "stdout",
     "output_type": "stream",
     "text": [
      "4.47 s ± 0 ns per loop (mean ± std. dev. of 1 run, 1 loop each)\n"
     ]
    }
   ],
   "source": [
    "%%timeit -r 1 -n 1\n",
    "\n",
    "#time for skl\n",
    "skl = model.predict_proba(X)"
   ]
  },
  {
   "cell_type": "code",
   "execution_count": 4,
   "metadata": {},
   "outputs": [
    {
     "name": "stdout",
     "output_type": "stream",
     "text": [
      "7.99 s ± 0 ns per loop (mean ± std. dev. of 1 run, 1 loop each)\n"
     ]
    }
   ],
   "source": [
    "%%timeit -r 1 -n 1\n",
    "\n",
    "# time for hummingbird - CPU\n",
    "pytorch_model.to('cpu')\n",
    "hum_cpu = pytorch_model(X_torch)"
   ]
  },
  {
   "cell_type": "code",
   "execution_count": 5,
   "metadata": {},
   "outputs": [
    {
     "name": "stdout",
     "output_type": "stream",
     "text": [
      "2.73 s ± 0 ns per loop (mean ± std. dev. of 1 run, 1 loop each)\n"
     ]
    }
   ],
   "source": [
    "%%timeit -r 1 -n 1\n",
    "\n",
    "# time for hummingbird - GPU\n",
    "pytorch_model.to('cuda')\n",
    "hum_gpu = pytorch_model(X_torch.to('cuda'))"
   ]
  },
  {
   "cell_type": "code",
   "execution_count": 7,
   "metadata": {},
   "outputs": [],
   "source": [
    "# make sure Hummingbird output matches Scikit-learn as expected\n",
    "skl = model.predict_proba(X)\n",
    "pytorch_model.to('cuda')\n",
    "hum_gpu = pytorch_model(X_torch.to('cuda'))\n",
    "\n",
    "np.testing.assert_allclose(skl, hum_gpu[1].data.to('cpu').numpy(), rtol=1e-06, atol=1e-06)"
   ]
  }
 ],
 "metadata": {
  "kernelspec": {
   "display_name": "Python 3",
   "language": "python",
   "name": "python3"
  },
  "language_info": {
   "codemirror_mode": {
    "name": "ipython",
    "version": 3
   },
   "file_extension": ".py",
   "mimetype": "text/x-python",
   "name": "python",
   "nbconvert_exporter": "python",
   "pygments_lexer": "ipython3",
   "version": "3.7.3"
  }
 },
 "nbformat": 4,
 "nbformat_minor": 2
}
