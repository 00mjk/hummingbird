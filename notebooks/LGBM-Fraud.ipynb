{
 "cells": [
  {
   "cell_type": "code",
   "execution_count": 7,
   "metadata": {},
   "outputs": [],
   "source": [
    "import numpy as np\n",
    "import torch, pickle\n",
    "import lightgbm as lgb\n",
    "from hummingbird import convert_sklearn\n",
    "from onnxconverter_common.data_types import FloatTensorType"
   ]
  },
  {
   "cell_type": "code",
   "execution_count": 12,
   "metadata": {},
   "outputs": [],
   "source": [
    "# load the LGBM model for Fraud\n",
    "model = pickle.load(open('lgbm-500-6.pkl', \"rb\"))\n",
    "\n",
    "# create some random data\n",
    "X = np.array(np.random.rand(200000, 28), dtype=np.float32)\n",
    "X_torch = torch.from_numpy(X)\n",
    "\n",
    "# use hummingbird to convert your sklearn model to pytorch\n",
    "pytorch_model = convert_sklearn(\n",
    "    model, \n",
    "    [(\"input\", FloatTensorType([200000, 28]))], \n",
    "    extra_config = {\"tree_implementation\": \"perf_tree_trav\"})"
   ]
  },
  {
   "cell_type": "code",
   "execution_count": 13,
   "metadata": {},
   "outputs": [
    {
     "name": "stdout",
     "output_type": "stream",
     "text": [
      "1.98 s ± 3.06 ms per loop (mean ± std. dev. of 3 runs, 1 loop each)\n"
     ]
    }
   ],
   "source": [
    "%%timeit -r 3\n",
    "\n",
    "#time for skl\n",
    "skl = model.predict(X)"
   ]
  },
  {
   "cell_type": "code",
   "execution_count": 14,
   "metadata": {},
   "outputs": [
    {
     "name": "stdout",
     "output_type": "stream",
     "text": [
      "5.35 s ± 9.89 ms per loop (mean ± std. dev. of 3 runs, 1 loop each)\n"
     ]
    }
   ],
   "source": [
    "%%timeit -r 3\n",
    "\n",
    "# time for hummingbird - CPU\n",
    "pytorch_model.to('cpu')\n",
    "hum_cpu = pytorch_model(X_torch)"
   ]
  },
  {
   "cell_type": "code",
   "execution_count": 15,
   "metadata": {},
   "outputs": [
    {
     "name": "stdout",
     "output_type": "stream",
     "text": [
      "165 ms ± 54.7 µs per loop (mean ± std. dev. of 3 runs, 10 loops each)\n"
     ]
    }
   ],
   "source": [
    "%%timeit -r 3\n",
    "\n",
    "# time for hummingbird - GPU. Note that you must have a GPU-enabled machine.\n",
    "pytorch_model.to('cuda')\n",
    "hum_gpu = pytorch_model(X_torch.to('cuda'))"
   ]
  },
  {
   "cell_type": "code",
   "execution_count": 16,
   "metadata": {},
   "outputs": [],
   "source": [
    "# make sure Hummingbird output matches Scikit-learn as expected\n",
    "skl = model.predict_proba(X)\n",
    "pytorch_model.to('cuda')\n",
    "hum_gpu = pytorch_model(X_torch.to('cuda'))\n",
    "\n",
    "np.testing.assert_allclose(skl, hum_gpu[1].data.to('cpu').numpy(), rtol=1e-06, atol=1e-06)"
   ]
  },
  {
   "cell_type": "code",
   "execution_count": null,
   "metadata": {},
   "outputs": [],
   "source": []
  }
 ],
 "metadata": {
  "kernelspec": {
   "display_name": "Python 3",
   "language": "python",
   "name": "python3"
  },
  "language_info": {
   "codemirror_mode": {
    "name": "ipython",
    "version": 3
   },
   "file_extension": ".py",
   "mimetype": "text/x-python",
   "name": "python",
   "nbconvert_exporter": "python",
   "pygments_lexer": "ipython3",
   "version": "3.7.3"
  }
 },
 "nbformat": 4,
 "nbformat_minor": 2
}
